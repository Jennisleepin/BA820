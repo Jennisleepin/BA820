{
  "nbformat": 4,
  "nbformat_minor": 0,
  "metadata": {
    "colab": {
      "provenance": [],
      "authorship_tag": "ABX9TyMnLIAJAQFm9YqNXBPffxP9",
      "include_colab_link": true
    },
    "kernelspec": {
      "name": "python3",
      "display_name": "Python 3"
    },
    "language_info": {
      "name": "python"
    }
  },
  "cells": [
    {
      "cell_type": "markdown",
      "metadata": {
        "id": "view-in-github",
        "colab_type": "text"
      },
      "source": [
        "<a href=\"https://colab.research.google.com/github/elhamod/BA820/blob/main/Hands-on/04-text-mining/text_analysis_phase1.ipynb\" target=\"_parent\"><img src=\"https://colab.research.google.com/assets/colab-badge.svg\" alt=\"Open In Colab\"/></a>"
      ]
    },
    {
      "cell_type": "markdown",
      "source": [
        "##Text cleaning and Regex"
      ],
      "metadata": {
        "id": "dXf-GfaJ8eeZ"
      }
    },
    {
      "cell_type": "markdown",
      "source": [
        "we will start with some sentences. Each sentence in this context can be considered *a document*."
      ],
      "metadata": {
        "id": "wWeRoCDRCjPe"
      }
    },
    {
      "cell_type": "code",
      "source": [
        "corpus = [\n",
        "    \"In 1945, the US dropped two nuclear bombs on Japan. Japan surrendered afterwards.\",\n",
        "    \"Japan is located in Asia. Tokyo is its capital.\",\n",
        "    \"The capital of the USA is Washington D.C., which is located on the eastern seaboard.\",\n",
        "    \"I like eating apples! I eat 2.3 pounds everyday.\",\n",
        "    \"The capitol of Canada is Ottawa. My aunt's number there is (613)-554-2121. I enjoy visiting here.\",\n",
        "    \"       5/2 = 2.5.\",\n",
        "    \"The professor was very kind to us when creating the midterm exam.\"\n",
        "    \"An apple a day keeps the doctor away!\"\n",
        "    \"@jason We won the game! #WeAreTheChampions.\",\n",
        "    \"My phone number is Canada is (613)-224-2311        \",\n",
        "    \"Apples are good for your health.\"\n",
        "]\n",
        "\n",
        "import pandas as pd\n",
        "df = pd.DataFrame({'text':corpus})\n",
        "df"
      ],
      "metadata": {
        "colab": {
          "base_uri": "https://localhost:8080/",
          "height": 331
        },
        "id": "qHCi0tIbJWGa",
        "outputId": "2d3200ed-48c6-43ea-91d7-be3b1ab26fd4"
      },
      "execution_count": null,
      "outputs": [
        {
          "output_type": "execute_result",
          "data": {
            "text/plain": [
              "                                                text\n",
              "0  In 1945, the US dropped two nuclear bombs on J...\n",
              "1    Japan is located in Asia. Tokyo is its capital.\n",
              "2  The capital of the USA is Washington D.C., whi...\n",
              "3   I like eating apples! I eat 2.3 pounds everyday.\n",
              "4  The capitol of Canada is Ottawa. My aunt's num...\n",
              "5                                         5/2 = 2.5.\n",
              "6  The professor was very kind to us when creatin...\n",
              "7  My phone number is Canada is (613)-224-2311   ...\n",
              "8                   Apples are good for your health."
            ],
            "text/html": [
              "\n",
              "  <div id=\"df-f4866bfa-edc1-47b2-8ae7-4166c7158333\" class=\"colab-df-container\">\n",
              "    <div>\n",
              "<style scoped>\n",
              "    .dataframe tbody tr th:only-of-type {\n",
              "        vertical-align: middle;\n",
              "    }\n",
              "\n",
              "    .dataframe tbody tr th {\n",
              "        vertical-align: top;\n",
              "    }\n",
              "\n",
              "    .dataframe thead th {\n",
              "        text-align: right;\n",
              "    }\n",
              "</style>\n",
              "<table border=\"1\" class=\"dataframe\">\n",
              "  <thead>\n",
              "    <tr style=\"text-align: right;\">\n",
              "      <th></th>\n",
              "      <th>text</th>\n",
              "    </tr>\n",
              "  </thead>\n",
              "  <tbody>\n",
              "    <tr>\n",
              "      <th>0</th>\n",
              "      <td>In 1945, the US dropped two nuclear bombs on J...</td>\n",
              "    </tr>\n",
              "    <tr>\n",
              "      <th>1</th>\n",
              "      <td>Japan is located in Asia. Tokyo is its capital.</td>\n",
              "    </tr>\n",
              "    <tr>\n",
              "      <th>2</th>\n",
              "      <td>The capital of the USA is Washington D.C., whi...</td>\n",
              "    </tr>\n",
              "    <tr>\n",
              "      <th>3</th>\n",
              "      <td>I like eating apples! I eat 2.3 pounds everyday.</td>\n",
              "    </tr>\n",
              "    <tr>\n",
              "      <th>4</th>\n",
              "      <td>The capitol of Canada is Ottawa. My aunt's num...</td>\n",
              "    </tr>\n",
              "    <tr>\n",
              "      <th>5</th>\n",
              "      <td>5/2 = 2.5.</td>\n",
              "    </tr>\n",
              "    <tr>\n",
              "      <th>6</th>\n",
              "      <td>The professor was very kind to us when creatin...</td>\n",
              "    </tr>\n",
              "    <tr>\n",
              "      <th>7</th>\n",
              "      <td>My phone number is Canada is (613)-224-2311   ...</td>\n",
              "    </tr>\n",
              "    <tr>\n",
              "      <th>8</th>\n",
              "      <td>Apples are good for your health.</td>\n",
              "    </tr>\n",
              "  </tbody>\n",
              "</table>\n",
              "</div>\n",
              "    <div class=\"colab-df-buttons\">\n",
              "\n",
              "  <div class=\"colab-df-container\">\n",
              "    <button class=\"colab-df-convert\" onclick=\"convertToInteractive('df-f4866bfa-edc1-47b2-8ae7-4166c7158333')\"\n",
              "            title=\"Convert this dataframe to an interactive table.\"\n",
              "            style=\"display:none;\">\n",
              "\n",
              "  <svg xmlns=\"http://www.w3.org/2000/svg\" height=\"24px\" viewBox=\"0 -960 960 960\">\n",
              "    <path d=\"M120-120v-720h720v720H120Zm60-500h600v-160H180v160Zm220 220h160v-160H400v160Zm0 220h160v-160H400v160ZM180-400h160v-160H180v160Zm440 0h160v-160H620v160ZM180-180h160v-160H180v160Zm440 0h160v-160H620v160Z\"/>\n",
              "  </svg>\n",
              "    </button>\n",
              "\n",
              "  <style>\n",
              "    .colab-df-container {\n",
              "      display:flex;\n",
              "      gap: 12px;\n",
              "    }\n",
              "\n",
              "    .colab-df-convert {\n",
              "      background-color: #E8F0FE;\n",
              "      border: none;\n",
              "      border-radius: 50%;\n",
              "      cursor: pointer;\n",
              "      display: none;\n",
              "      fill: #1967D2;\n",
              "      height: 32px;\n",
              "      padding: 0 0 0 0;\n",
              "      width: 32px;\n",
              "    }\n",
              "\n",
              "    .colab-df-convert:hover {\n",
              "      background-color: #E2EBFA;\n",
              "      box-shadow: 0px 1px 2px rgba(60, 64, 67, 0.3), 0px 1px 3px 1px rgba(60, 64, 67, 0.15);\n",
              "      fill: #174EA6;\n",
              "    }\n",
              "\n",
              "    .colab-df-buttons div {\n",
              "      margin-bottom: 4px;\n",
              "    }\n",
              "\n",
              "    [theme=dark] .colab-df-convert {\n",
              "      background-color: #3B4455;\n",
              "      fill: #D2E3FC;\n",
              "    }\n",
              "\n",
              "    [theme=dark] .colab-df-convert:hover {\n",
              "      background-color: #434B5C;\n",
              "      box-shadow: 0px 1px 3px 1px rgba(0, 0, 0, 0.15);\n",
              "      filter: drop-shadow(0px 1px 2px rgba(0, 0, 0, 0.3));\n",
              "      fill: #FFFFFF;\n",
              "    }\n",
              "  </style>\n",
              "\n",
              "    <script>\n",
              "      const buttonEl =\n",
              "        document.querySelector('#df-f4866bfa-edc1-47b2-8ae7-4166c7158333 button.colab-df-convert');\n",
              "      buttonEl.style.display =\n",
              "        google.colab.kernel.accessAllowed ? 'block' : 'none';\n",
              "\n",
              "      async function convertToInteractive(key) {\n",
              "        const element = document.querySelector('#df-f4866bfa-edc1-47b2-8ae7-4166c7158333');\n",
              "        const dataTable =\n",
              "          await google.colab.kernel.invokeFunction('convertToInteractive',\n",
              "                                                    [key], {});\n",
              "        if (!dataTable) return;\n",
              "\n",
              "        const docLinkHtml = 'Like what you see? Visit the ' +\n",
              "          '<a target=\"_blank\" href=https://colab.research.google.com/notebooks/data_table.ipynb>data table notebook</a>'\n",
              "          + ' to learn more about interactive tables.';\n",
              "        element.innerHTML = '';\n",
              "        dataTable['output_type'] = 'display_data';\n",
              "        await google.colab.output.renderOutput(dataTable, element);\n",
              "        const docLink = document.createElement('div');\n",
              "        docLink.innerHTML = docLinkHtml;\n",
              "        element.appendChild(docLink);\n",
              "      }\n",
              "    </script>\n",
              "  </div>\n",
              "\n",
              "\n",
              "<div id=\"df-e2e551bf-e281-4d6e-8173-3c14c26cb694\">\n",
              "  <button class=\"colab-df-quickchart\" onclick=\"quickchart('df-e2e551bf-e281-4d6e-8173-3c14c26cb694')\"\n",
              "            title=\"Suggest charts\"\n",
              "            style=\"display:none;\">\n",
              "\n",
              "<svg xmlns=\"http://www.w3.org/2000/svg\" height=\"24px\"viewBox=\"0 0 24 24\"\n",
              "     width=\"24px\">\n",
              "    <g>\n",
              "        <path d=\"M19 3H5c-1.1 0-2 .9-2 2v14c0 1.1.9 2 2 2h14c1.1 0 2-.9 2-2V5c0-1.1-.9-2-2-2zM9 17H7v-7h2v7zm4 0h-2V7h2v10zm4 0h-2v-4h2v4z\"/>\n",
              "    </g>\n",
              "</svg>\n",
              "  </button>\n",
              "\n",
              "<style>\n",
              "  .colab-df-quickchart {\n",
              "      --bg-color: #E8F0FE;\n",
              "      --fill-color: #1967D2;\n",
              "      --hover-bg-color: #E2EBFA;\n",
              "      --hover-fill-color: #174EA6;\n",
              "      --disabled-fill-color: #AAA;\n",
              "      --disabled-bg-color: #DDD;\n",
              "  }\n",
              "\n",
              "  [theme=dark] .colab-df-quickchart {\n",
              "      --bg-color: #3B4455;\n",
              "      --fill-color: #D2E3FC;\n",
              "      --hover-bg-color: #434B5C;\n",
              "      --hover-fill-color: #FFFFFF;\n",
              "      --disabled-bg-color: #3B4455;\n",
              "      --disabled-fill-color: #666;\n",
              "  }\n",
              "\n",
              "  .colab-df-quickchart {\n",
              "    background-color: var(--bg-color);\n",
              "    border: none;\n",
              "    border-radius: 50%;\n",
              "    cursor: pointer;\n",
              "    display: none;\n",
              "    fill: var(--fill-color);\n",
              "    height: 32px;\n",
              "    padding: 0;\n",
              "    width: 32px;\n",
              "  }\n",
              "\n",
              "  .colab-df-quickchart:hover {\n",
              "    background-color: var(--hover-bg-color);\n",
              "    box-shadow: 0 1px 2px rgba(60, 64, 67, 0.3), 0 1px 3px 1px rgba(60, 64, 67, 0.15);\n",
              "    fill: var(--button-hover-fill-color);\n",
              "  }\n",
              "\n",
              "  .colab-df-quickchart-complete:disabled,\n",
              "  .colab-df-quickchart-complete:disabled:hover {\n",
              "    background-color: var(--disabled-bg-color);\n",
              "    fill: var(--disabled-fill-color);\n",
              "    box-shadow: none;\n",
              "  }\n",
              "\n",
              "  .colab-df-spinner {\n",
              "    border: 2px solid var(--fill-color);\n",
              "    border-color: transparent;\n",
              "    border-bottom-color: var(--fill-color);\n",
              "    animation:\n",
              "      spin 1s steps(1) infinite;\n",
              "  }\n",
              "\n",
              "  @keyframes spin {\n",
              "    0% {\n",
              "      border-color: transparent;\n",
              "      border-bottom-color: var(--fill-color);\n",
              "      border-left-color: var(--fill-color);\n",
              "    }\n",
              "    20% {\n",
              "      border-color: transparent;\n",
              "      border-left-color: var(--fill-color);\n",
              "      border-top-color: var(--fill-color);\n",
              "    }\n",
              "    30% {\n",
              "      border-color: transparent;\n",
              "      border-left-color: var(--fill-color);\n",
              "      border-top-color: var(--fill-color);\n",
              "      border-right-color: var(--fill-color);\n",
              "    }\n",
              "    40% {\n",
              "      border-color: transparent;\n",
              "      border-right-color: var(--fill-color);\n",
              "      border-top-color: var(--fill-color);\n",
              "    }\n",
              "    60% {\n",
              "      border-color: transparent;\n",
              "      border-right-color: var(--fill-color);\n",
              "    }\n",
              "    80% {\n",
              "      border-color: transparent;\n",
              "      border-right-color: var(--fill-color);\n",
              "      border-bottom-color: var(--fill-color);\n",
              "    }\n",
              "    90% {\n",
              "      border-color: transparent;\n",
              "      border-bottom-color: var(--fill-color);\n",
              "    }\n",
              "  }\n",
              "</style>\n",
              "\n",
              "  <script>\n",
              "    async function quickchart(key) {\n",
              "      const quickchartButtonEl =\n",
              "        document.querySelector('#' + key + ' button');\n",
              "      quickchartButtonEl.disabled = true;  // To prevent multiple clicks.\n",
              "      quickchartButtonEl.classList.add('colab-df-spinner');\n",
              "      try {\n",
              "        const charts = await google.colab.kernel.invokeFunction(\n",
              "            'suggestCharts', [key], {});\n",
              "      } catch (error) {\n",
              "        console.error('Error during call to suggestCharts:', error);\n",
              "      }\n",
              "      quickchartButtonEl.classList.remove('colab-df-spinner');\n",
              "      quickchartButtonEl.classList.add('colab-df-quickchart-complete');\n",
              "    }\n",
              "    (() => {\n",
              "      let quickchartButtonEl =\n",
              "        document.querySelector('#df-e2e551bf-e281-4d6e-8173-3c14c26cb694 button');\n",
              "      quickchartButtonEl.style.display =\n",
              "        google.colab.kernel.accessAllowed ? 'block' : 'none';\n",
              "    })();\n",
              "  </script>\n",
              "</div>\n",
              "    </div>\n",
              "  </div>\n"
            ]
          },
          "metadata": {},
          "execution_count": 14
        }
      ]
    },
    {
      "cell_type": "markdown",
      "source": [
        "Some pre-processing you might want to consider:\n",
        "\n",
        "- lower/upper casing. *Is the effect positive or negative?*\n",
        "- Removing trailing spaces.\n",
        "- Removing punctuation. *Is the effect positive or negative?*\n",
        "- Replacing synonyms."
      ],
      "metadata": {
        "id": "PoKB7NaRZQMJ"
      }
    },
    {
      "cell_type": "code",
      "source": [
        "df = pd.DataFrame(df.text.str.lower()) # to lower case.\n",
        "# df = pd.DataFrame(df.text.str.strip()) # removing trailing spaces\n",
        "# df = pd.DataFrame(df.text.str.replace(\"like\", \"enjoy\")) # synonym replacement\n",
        "df = pd.DataFrame(df.text.str.replace('[^\\w\\s]','')) # remove punctuation\n",
        "\n",
        "# df = pd.DataFrame(df.text.str.findall('@\\S+|#\\S+'))\n",
        "# df = df.text.str.contains(\"us\")\n",
        "\n",
        "df"
      ],
      "metadata": {
        "colab": {
          "base_uri": "https://localhost:8080/",
          "height": 366
        },
        "id": "6X0Eh848ZQSP",
        "outputId": "11ae5d4a-fa46-4912-bf3a-9e4aeada5ed9"
      },
      "execution_count": null,
      "outputs": [
        {
          "output_type": "stream",
          "name": "stderr",
          "text": [
            "<ipython-input-15-32432b39a8e4>:4: FutureWarning: The default value of regex will change from True to False in a future version.\n",
            "  df = pd.DataFrame(df.text.str.replace('[^\\w\\s]','')) # remove punctuation\n"
          ]
        },
        {
          "output_type": "execute_result",
          "data": {
            "text/plain": [
              "                                                text\n",
              "0  in 1945 the us dropped two nuclear bombs on ja...\n",
              "1      japan is located in asia tokyo is its capital\n",
              "2  the capital of the usa is washington dc which ...\n",
              "3      i like eating apples i eat 23 pounds everyday\n",
              "4  the capitol of canada is ottawa my aunts numbe...\n",
              "5                                             52  25\n",
              "6  the professor was very kind to us when creatin...\n",
              "7    my phone number is canada is 6132242311        \n",
              "8                    apples are good for your health"
            ],
            "text/html": [
              "\n",
              "  <div id=\"df-5598a9cd-bc65-46ce-a824-f7f1b7249ac5\" class=\"colab-df-container\">\n",
              "    <div>\n",
              "<style scoped>\n",
              "    .dataframe tbody tr th:only-of-type {\n",
              "        vertical-align: middle;\n",
              "    }\n",
              "\n",
              "    .dataframe tbody tr th {\n",
              "        vertical-align: top;\n",
              "    }\n",
              "\n",
              "    .dataframe thead th {\n",
              "        text-align: right;\n",
              "    }\n",
              "</style>\n",
              "<table border=\"1\" class=\"dataframe\">\n",
              "  <thead>\n",
              "    <tr style=\"text-align: right;\">\n",
              "      <th></th>\n",
              "      <th>text</th>\n",
              "    </tr>\n",
              "  </thead>\n",
              "  <tbody>\n",
              "    <tr>\n",
              "      <th>0</th>\n",
              "      <td>in 1945 the us dropped two nuclear bombs on ja...</td>\n",
              "    </tr>\n",
              "    <tr>\n",
              "      <th>1</th>\n",
              "      <td>japan is located in asia tokyo is its capital</td>\n",
              "    </tr>\n",
              "    <tr>\n",
              "      <th>2</th>\n",
              "      <td>the capital of the usa is washington dc which ...</td>\n",
              "    </tr>\n",
              "    <tr>\n",
              "      <th>3</th>\n",
              "      <td>i like eating apples i eat 23 pounds everyday</td>\n",
              "    </tr>\n",
              "    <tr>\n",
              "      <th>4</th>\n",
              "      <td>the capitol of canada is ottawa my aunts numbe...</td>\n",
              "    </tr>\n",
              "    <tr>\n",
              "      <th>5</th>\n",
              "      <td>52  25</td>\n",
              "    </tr>\n",
              "    <tr>\n",
              "      <th>6</th>\n",
              "      <td>the professor was very kind to us when creatin...</td>\n",
              "    </tr>\n",
              "    <tr>\n",
              "      <th>7</th>\n",
              "      <td>my phone number is canada is 6132242311</td>\n",
              "    </tr>\n",
              "    <tr>\n",
              "      <th>8</th>\n",
              "      <td>apples are good for your health</td>\n",
              "    </tr>\n",
              "  </tbody>\n",
              "</table>\n",
              "</div>\n",
              "    <div class=\"colab-df-buttons\">\n",
              "\n",
              "  <div class=\"colab-df-container\">\n",
              "    <button class=\"colab-df-convert\" onclick=\"convertToInteractive('df-5598a9cd-bc65-46ce-a824-f7f1b7249ac5')\"\n",
              "            title=\"Convert this dataframe to an interactive table.\"\n",
              "            style=\"display:none;\">\n",
              "\n",
              "  <svg xmlns=\"http://www.w3.org/2000/svg\" height=\"24px\" viewBox=\"0 -960 960 960\">\n",
              "    <path d=\"M120-120v-720h720v720H120Zm60-500h600v-160H180v160Zm220 220h160v-160H400v160Zm0 220h160v-160H400v160ZM180-400h160v-160H180v160Zm440 0h160v-160H620v160ZM180-180h160v-160H180v160Zm440 0h160v-160H620v160Z\"/>\n",
              "  </svg>\n",
              "    </button>\n",
              "\n",
              "  <style>\n",
              "    .colab-df-container {\n",
              "      display:flex;\n",
              "      gap: 12px;\n",
              "    }\n",
              "\n",
              "    .colab-df-convert {\n",
              "      background-color: #E8F0FE;\n",
              "      border: none;\n",
              "      border-radius: 50%;\n",
              "      cursor: pointer;\n",
              "      display: none;\n",
              "      fill: #1967D2;\n",
              "      height: 32px;\n",
              "      padding: 0 0 0 0;\n",
              "      width: 32px;\n",
              "    }\n",
              "\n",
              "    .colab-df-convert:hover {\n",
              "      background-color: #E2EBFA;\n",
              "      box-shadow: 0px 1px 2px rgba(60, 64, 67, 0.3), 0px 1px 3px 1px rgba(60, 64, 67, 0.15);\n",
              "      fill: #174EA6;\n",
              "    }\n",
              "\n",
              "    .colab-df-buttons div {\n",
              "      margin-bottom: 4px;\n",
              "    }\n",
              "\n",
              "    [theme=dark] .colab-df-convert {\n",
              "      background-color: #3B4455;\n",
              "      fill: #D2E3FC;\n",
              "    }\n",
              "\n",
              "    [theme=dark] .colab-df-convert:hover {\n",
              "      background-color: #434B5C;\n",
              "      box-shadow: 0px 1px 3px 1px rgba(0, 0, 0, 0.15);\n",
              "      filter: drop-shadow(0px 1px 2px rgba(0, 0, 0, 0.3));\n",
              "      fill: #FFFFFF;\n",
              "    }\n",
              "  </style>\n",
              "\n",
              "    <script>\n",
              "      const buttonEl =\n",
              "        document.querySelector('#df-5598a9cd-bc65-46ce-a824-f7f1b7249ac5 button.colab-df-convert');\n",
              "      buttonEl.style.display =\n",
              "        google.colab.kernel.accessAllowed ? 'block' : 'none';\n",
              "\n",
              "      async function convertToInteractive(key) {\n",
              "        const element = document.querySelector('#df-5598a9cd-bc65-46ce-a824-f7f1b7249ac5');\n",
              "        const dataTable =\n",
              "          await google.colab.kernel.invokeFunction('convertToInteractive',\n",
              "                                                    [key], {});\n",
              "        if (!dataTable) return;\n",
              "\n",
              "        const docLinkHtml = 'Like what you see? Visit the ' +\n",
              "          '<a target=\"_blank\" href=https://colab.research.google.com/notebooks/data_table.ipynb>data table notebook</a>'\n",
              "          + ' to learn more about interactive tables.';\n",
              "        element.innerHTML = '';\n",
              "        dataTable['output_type'] = 'display_data';\n",
              "        await google.colab.output.renderOutput(dataTable, element);\n",
              "        const docLink = document.createElement('div');\n",
              "        docLink.innerHTML = docLinkHtml;\n",
              "        element.appendChild(docLink);\n",
              "      }\n",
              "    </script>\n",
              "  </div>\n",
              "\n",
              "\n",
              "<div id=\"df-1c3aa753-0ed9-4f91-b72d-60b589c40003\">\n",
              "  <button class=\"colab-df-quickchart\" onclick=\"quickchart('df-1c3aa753-0ed9-4f91-b72d-60b589c40003')\"\n",
              "            title=\"Suggest charts\"\n",
              "            style=\"display:none;\">\n",
              "\n",
              "<svg xmlns=\"http://www.w3.org/2000/svg\" height=\"24px\"viewBox=\"0 0 24 24\"\n",
              "     width=\"24px\">\n",
              "    <g>\n",
              "        <path d=\"M19 3H5c-1.1 0-2 .9-2 2v14c0 1.1.9 2 2 2h14c1.1 0 2-.9 2-2V5c0-1.1-.9-2-2-2zM9 17H7v-7h2v7zm4 0h-2V7h2v10zm4 0h-2v-4h2v4z\"/>\n",
              "    </g>\n",
              "</svg>\n",
              "  </button>\n",
              "\n",
              "<style>\n",
              "  .colab-df-quickchart {\n",
              "      --bg-color: #E8F0FE;\n",
              "      --fill-color: #1967D2;\n",
              "      --hover-bg-color: #E2EBFA;\n",
              "      --hover-fill-color: #174EA6;\n",
              "      --disabled-fill-color: #AAA;\n",
              "      --disabled-bg-color: #DDD;\n",
              "  }\n",
              "\n",
              "  [theme=dark] .colab-df-quickchart {\n",
              "      --bg-color: #3B4455;\n",
              "      --fill-color: #D2E3FC;\n",
              "      --hover-bg-color: #434B5C;\n",
              "      --hover-fill-color: #FFFFFF;\n",
              "      --disabled-bg-color: #3B4455;\n",
              "      --disabled-fill-color: #666;\n",
              "  }\n",
              "\n",
              "  .colab-df-quickchart {\n",
              "    background-color: var(--bg-color);\n",
              "    border: none;\n",
              "    border-radius: 50%;\n",
              "    cursor: pointer;\n",
              "    display: none;\n",
              "    fill: var(--fill-color);\n",
              "    height: 32px;\n",
              "    padding: 0;\n",
              "    width: 32px;\n",
              "  }\n",
              "\n",
              "  .colab-df-quickchart:hover {\n",
              "    background-color: var(--hover-bg-color);\n",
              "    box-shadow: 0 1px 2px rgba(60, 64, 67, 0.3), 0 1px 3px 1px rgba(60, 64, 67, 0.15);\n",
              "    fill: var(--button-hover-fill-color);\n",
              "  }\n",
              "\n",
              "  .colab-df-quickchart-complete:disabled,\n",
              "  .colab-df-quickchart-complete:disabled:hover {\n",
              "    background-color: var(--disabled-bg-color);\n",
              "    fill: var(--disabled-fill-color);\n",
              "    box-shadow: none;\n",
              "  }\n",
              "\n",
              "  .colab-df-spinner {\n",
              "    border: 2px solid var(--fill-color);\n",
              "    border-color: transparent;\n",
              "    border-bottom-color: var(--fill-color);\n",
              "    animation:\n",
              "      spin 1s steps(1) infinite;\n",
              "  }\n",
              "\n",
              "  @keyframes spin {\n",
              "    0% {\n",
              "      border-color: transparent;\n",
              "      border-bottom-color: var(--fill-color);\n",
              "      border-left-color: var(--fill-color);\n",
              "    }\n",
              "    20% {\n",
              "      border-color: transparent;\n",
              "      border-left-color: var(--fill-color);\n",
              "      border-top-color: var(--fill-color);\n",
              "    }\n",
              "    30% {\n",
              "      border-color: transparent;\n",
              "      border-left-color: var(--fill-color);\n",
              "      border-top-color: var(--fill-color);\n",
              "      border-right-color: var(--fill-color);\n",
              "    }\n",
              "    40% {\n",
              "      border-color: transparent;\n",
              "      border-right-color: var(--fill-color);\n",
              "      border-top-color: var(--fill-color);\n",
              "    }\n",
              "    60% {\n",
              "      border-color: transparent;\n",
              "      border-right-color: var(--fill-color);\n",
              "    }\n",
              "    80% {\n",
              "      border-color: transparent;\n",
              "      border-right-color: var(--fill-color);\n",
              "      border-bottom-color: var(--fill-color);\n",
              "    }\n",
              "    90% {\n",
              "      border-color: transparent;\n",
              "      border-bottom-color: var(--fill-color);\n",
              "    }\n",
              "  }\n",
              "</style>\n",
              "\n",
              "  <script>\n",
              "    async function quickchart(key) {\n",
              "      const quickchartButtonEl =\n",
              "        document.querySelector('#' + key + ' button');\n",
              "      quickchartButtonEl.disabled = true;  // To prevent multiple clicks.\n",
              "      quickchartButtonEl.classList.add('colab-df-spinner');\n",
              "      try {\n",
              "        const charts = await google.colab.kernel.invokeFunction(\n",
              "            'suggestCharts', [key], {});\n",
              "      } catch (error) {\n",
              "        console.error('Error during call to suggestCharts:', error);\n",
              "      }\n",
              "      quickchartButtonEl.classList.remove('colab-df-spinner');\n",
              "      quickchartButtonEl.classList.add('colab-df-quickchart-complete');\n",
              "    }\n",
              "    (() => {\n",
              "      let quickchartButtonEl =\n",
              "        document.querySelector('#df-1c3aa753-0ed9-4f91-b72d-60b589c40003 button');\n",
              "      quickchartButtonEl.style.display =\n",
              "        google.colab.kernel.accessAllowed ? 'block' : 'none';\n",
              "    })();\n",
              "  </script>\n",
              "</div>\n",
              "    </div>\n",
              "  </div>\n"
            ]
          },
          "metadata": {},
          "execution_count": 15
        }
      ]
    },
    {
      "cell_type": "markdown",
      "source": [
        "##Tokenization\n",
        "\n",
        "Let's break down the text. This might entail some processing."
      ],
      "metadata": {
        "id": "W04fTkA5KeXA"
      }
    },
    {
      "cell_type": "code",
      "source": [
        "from nltk.tokenize import word_tokenize, wordpunct_tokenize, sent_tokenize, WhitespaceTokenizer, RegexpTokenizer\n",
        "from nltk.tokenize.casual import TweetTokenizer\n",
        "import nltk\n",
        "nltk.download('punkt')\n",
        "\n",
        "tokenized = [word_tokenize(t) for t in corpus] # word tokenization\n",
        "# tokenized = [WhitespaceTokenizer().tokenize(t) for t in corpus] # word/punctuation tokenization\n",
        "# tokenized = [TweetTokenizer().tokenize(t) for t in corpus] #Tweets tokenization\n",
        "# tokenized = [RegexpTokenizer(r'\\d{4}|\\d{3}', gaps=False).tokenize(t) for t in corpus] # '\\([0-9]{3}\\)-[0-9]{3}-[0-9]{4}' #'\\d{4}|\\d{3}' # Regex tokenization. This keeps phone numbers only\n",
        "tokenized"
      ],
      "metadata": {
        "colab": {
          "base_uri": "https://localhost:8080/"
        },
        "id": "gSsuYuMcKekQ",
        "outputId": "fdcf868f-7c0d-44a7-86fc-ac47cf7fe63e"
      },
      "execution_count": null,
      "outputs": [
        {
          "output_type": "stream",
          "name": "stderr",
          "text": [
            "[nltk_data] Downloading package punkt to /root/nltk_data...\n",
            "[nltk_data]   Package punkt is already up-to-date!\n"
          ]
        },
        {
          "output_type": "execute_result",
          "data": {
            "text/plain": [
              "[['In',\n",
              "  '1945',\n",
              "  ',',\n",
              "  'the',\n",
              "  'US',\n",
              "  'dropped',\n",
              "  'two',\n",
              "  'nuclear',\n",
              "  'bombs',\n",
              "  'on',\n",
              "  'Japan',\n",
              "  '.',\n",
              "  'Japan',\n",
              "  'surrendered',\n",
              "  'afterwards',\n",
              "  '.'],\n",
              " ['Japan',\n",
              "  'is',\n",
              "  'located',\n",
              "  'in',\n",
              "  'Asia',\n",
              "  '.',\n",
              "  'Tokyo',\n",
              "  'is',\n",
              "  'its',\n",
              "  'capital',\n",
              "  '.'],\n",
              " ['The',\n",
              "  'capital',\n",
              "  'of',\n",
              "  'the',\n",
              "  'USA',\n",
              "  'is',\n",
              "  'Washington',\n",
              "  'D.C.',\n",
              "  ',',\n",
              "  'which',\n",
              "  'is',\n",
              "  'located',\n",
              "  'on',\n",
              "  'the',\n",
              "  'eastern',\n",
              "  'seaboard',\n",
              "  '.'],\n",
              " ['I',\n",
              "  'like',\n",
              "  'eating',\n",
              "  'apples',\n",
              "  '!',\n",
              "  'I',\n",
              "  'eat',\n",
              "  '2.3',\n",
              "  'pounds',\n",
              "  'everyday',\n",
              "  '.'],\n",
              " ['The',\n",
              "  'capitol',\n",
              "  'of',\n",
              "  'Canada',\n",
              "  'is',\n",
              "  'Ottawa',\n",
              "  '.',\n",
              "  'My',\n",
              "  'aunt',\n",
              "  \"'s\",\n",
              "  'number',\n",
              "  'there',\n",
              "  'is',\n",
              "  '(',\n",
              "  '613',\n",
              "  ')',\n",
              "  '-554-2121',\n",
              "  '.',\n",
              "  'I',\n",
              "  'enjoy',\n",
              "  'visiting',\n",
              "  'here',\n",
              "  '.'],\n",
              " ['5/2', '=', '2.5', '.'],\n",
              " ['The',\n",
              "  'professor',\n",
              "  'was',\n",
              "  'very',\n",
              "  'kind',\n",
              "  'to',\n",
              "  'us',\n",
              "  'when',\n",
              "  'creating',\n",
              "  'the',\n",
              "  'midterm',\n",
              "  'exam.An',\n",
              "  'apple',\n",
              "  'a',\n",
              "  'day',\n",
              "  'keeps',\n",
              "  'the',\n",
              "  'doctor',\n",
              "  'away',\n",
              "  '!',\n",
              "  '@',\n",
              "  'jason',\n",
              "  'We',\n",
              "  'won',\n",
              "  'the',\n",
              "  'game',\n",
              "  '!',\n",
              "  '#',\n",
              "  'WeAreTheChampions',\n",
              "  '.'],\n",
              " ['My', 'phone', 'number', 'is', 'Canada', 'is', '(', '613', ')', '-224-2311'],\n",
              " ['Apples', 'are', 'good', 'for', 'your', 'health', '.']]"
            ]
          },
          "metadata": {},
          "execution_count": 16
        }
      ]
    },
    {
      "cell_type": "markdown",
      "source": [
        "Tokenization does not have to be at the word level..."
      ],
      "metadata": {
        "id": "nACwl08H-eZe"
      }
    },
    {
      "cell_type": "code",
      "source": [
        "nltk.download('words')\n",
        "from nltk.corpus import words\n",
        "from nltk.tokenize import LegalitySyllableTokenizer\n",
        "\n",
        "# print(words)\n",
        "LP = LegalitySyllableTokenizer(words.words())\n",
        "\n",
        "for tokenized_document in tokenized:\n",
        "  tokenied2 = [LP.tokenize(word) for word in tokenized_document]\n",
        "  print(tokenied2)"
      ],
      "metadata": {
        "colab": {
          "base_uri": "https://localhost:8080/"
        },
        "id": "C64iIjmI-dl7",
        "outputId": "4a3f65fe-cded-4d2d-cc47-100efbf9975b"
      },
      "execution_count": null,
      "outputs": [
        {
          "output_type": "stream",
          "name": "stderr",
          "text": [
            "[nltk_data] Downloading package words to /root/nltk_data...\n",
            "[nltk_data]   Package words is already up-to-date!\n"
          ]
        },
        {
          "output_type": "stream",
          "name": "stdout",
          "text": [
            "[['In'], ['1945'], [','], ['the'], ['US'], ['drop', 'ped'], ['two'], ['nucl', 'ear'], ['bombs'], ['on'], ['Ja', 'pan'], ['.'], ['Ja', 'pan'], ['sur', 'ren', 'de', 'red'], ['af', 'ter', 'wards'], ['.']]\n",
            "[['Ja', 'pan'], ['is'], ['lo', 'ca', 'ted'], ['in'], ['As', 'ia'], ['.'], ['Tok', 'yo'], ['is'], ['its'], ['ca', 'pi', 'tal'], ['.']]\n",
            "[['The'], ['ca', 'pi', 'tal'], ['of'], ['the'], ['U', 'SA'], ['is'], ['Wa', 'shing', 'ton'], ['D.C.'], [','], ['which'], ['is'], ['lo', 'ca', 'ted'], ['on'], ['the'], ['e', 'a', 'stern'], ['s', 'eab', 'oard'], ['.']]\n",
            "[['I'], ['li', 'ke'], ['e', 'a', 'ting'], ['ap', 'ples'], ['!'], ['I'], ['eat'], ['2.3'], ['p', 'ounds'], ['e', 've', 'ryd', 'ay'], ['.']]\n",
            "[['The'], ['ca', 'pi', 'tol'], ['of'], ['Ca', 'na', 'da'], ['is'], ['Ot', 'ta', 'wa'], ['.'], ['My'], ['aunt'], [\"'s\"], ['num', 'ber'], ['the', 're'], ['is'], ['('], ['613'], [')'], ['-554-2121'], ['.'], ['I'], ['enj', 'oy'], ['vi', 'si', 'ting'], ['he', 're'], ['.']]\n",
            "[['5/2'], ['='], ['2.5'], ['.']]\n",
            "[['The'], ['pro', 'fes', 'sor'], ['was'], ['ve', 'ry'], ['kind'], ['to'], ['us'], ['when'], ['cre', 'a', 'ting'], ['the'], ['mid', 'term'], ['e', 'xam.', 'An'], ['ap', 'ple'], ['a'], ['d', 'ay'], ['k', 'eeps'], ['the'], ['doc', 'tor'], ['aw', 'ay'], ['!'], ['@'], ['ja', 'son'], ['We'], ['won'], ['the'], ['ga', 'me'], ['!'], ['#'], ['We', 'A', 're', 'The', 'Champ', 'ions'], ['.']]\n",
            "[['My'], ['pho', 'ne'], ['num', 'ber'], ['is'], ['Ca', 'na', 'da'], ['is'], ['('], ['613'], [')'], ['-224-2311']]\n",
            "[['Ap', 'ples'], ['a', 're'], ['g', 'ood'], ['for'], ['your'], ['h', 'ealth'], ['.']]\n"
          ]
        }
      ]
    },
    {
      "cell_type": "markdown",
      "source": [
        "- **Question:** Is it better to tokenize by word, sentence, character, or \"sub-words?\"."
      ],
      "metadata": {
        "id": "8-2hwS---8qz"
      }
    },
    {
      "cell_type": "markdown",
      "source": [
        "**Questions:**\n",
        "\n",
        "- any interesting sentences you want to try?\n",
        "- What if I want to only collect phone numbers?\n"
      ],
      "metadata": {
        "id": "YToUo0nN8wVC"
      }
    },
    {
      "cell_type": "markdown",
      "source": [
        "#Bag of Words"
      ],
      "metadata": {
        "id": "KttSbUqeckDI"
      }
    },
    {
      "cell_type": "markdown",
      "source": [
        "Now that we have tokenized the sentences, we can vectorize them. Let's use **Bag of Words**, the simplest way we know.\n",
        "\n",
        "Let's create and fit the model."
      ],
      "metadata": {
        "id": "rhLSwvahDDjW"
      }
    },
    {
      "cell_type": "code",
      "source": [
        "from sklearn.feature_extraction.text import CountVectorizer"
      ],
      "metadata": {
        "id": "8F7gRbqsDDpw"
      },
      "execution_count": null,
      "outputs": []
    },
    {
      "cell_type": "code",
      "source": [],
      "metadata": {
        "id": "fI6voyQBehfd"
      },
      "execution_count": null,
      "outputs": []
    },
    {
      "cell_type": "markdown",
      "source": [
        "Questions:\n",
        "\n",
        "- Can we do custom tokenization?\n",
        "- Can we specify stop words?"
      ],
      "metadata": {
        "id": "mOfJ33tq_i7Q"
      }
    },
    {
      "cell_type": "markdown",
      "source": [
        "You can print the list of stop words that was used"
      ],
      "metadata": {
        "id": "rkewL04C_53b"
      }
    },
    {
      "cell_type": "code",
      "source": [
        "cv.get_stop_words()"
      ],
      "metadata": {
        "id": "KlvAxqjSiXLP"
      },
      "execution_count": null,
      "outputs": []
    },
    {
      "cell_type": "markdown",
      "source": [
        "Now, let's transform the documents into BoW format"
      ],
      "metadata": {
        "id": "ZIxbpHsFABhW"
      }
    },
    {
      "cell_type": "code",
      "source": [],
      "metadata": {
        "id": "u5ZMb7-HewxC"
      },
      "execution_count": null,
      "outputs": []
    },
    {
      "cell_type": "markdown",
      "source": [
        "**Question:** What does this table remind you of? Is there any relevance?"
      ],
      "metadata": {
        "id": "YBTuurH8_Wh8"
      }
    },
    {
      "cell_type": "markdown",
      "source": [
        "We can see which tokens were extracted for a sentence using `cv.build_analyzer()`"
      ],
      "metadata": {
        "id": "cMmLbUVxALW6"
      }
    },
    {
      "cell_type": "code",
      "source": [],
      "metadata": {
        "id": "nnbLhhfJlyDs"
      },
      "execution_count": null,
      "outputs": []
    },
    {
      "cell_type": "markdown",
      "source": [
        "##Document Similarity"
      ],
      "metadata": {
        "id": "04X1vSF-AvBL"
      }
    },
    {
      "cell_type": "markdown",
      "source": [
        "Let's compare cosine similarity vs. Euclidean distance. We will calculate the *similariy matrix*."
      ],
      "metadata": {
        "id": "RbfC8K_zFih5"
      }
    },
    {
      "cell_type": "markdown",
      "source": [
        "First, cosine similarity"
      ],
      "metadata": {
        "id": "XavZgdCEBAAn"
      }
    },
    {
      "cell_type": "code",
      "source": [
        "from sklearn.metrics.pairwise import cosine_similarity\n",
        "from scipy.spatial.distance import euclidean\n",
        "from scipy.spatial.distance import squareform\n",
        "from scipy.spatial.distance import pdist\n",
        "\n"
      ],
      "metadata": {
        "id": "wQB0-WG5FioS"
      },
      "execution_count": null,
      "outputs": []
    },
    {
      "cell_type": "code",
      "source": [],
      "metadata": {
        "id": "VsqbH8slnwwM"
      },
      "execution_count": null,
      "outputs": []
    },
    {
      "cell_type": "markdown",
      "source": [
        "Now, Euclidean *similarity*"
      ],
      "metadata": {
        "id": "N8xmUQlmBIWz"
      }
    },
    {
      "cell_type": "code",
      "source": [],
      "metadata": {
        "id": "2uTvvHytkeM-"
      },
      "execution_count": null,
      "outputs": []
    },
    {
      "cell_type": "markdown",
      "source": [
        "## Spam Detection\n",
        "\n"
      ],
      "metadata": {
        "id": "W5TQ8S46DWsO"
      }
    },
    {
      "cell_type": "code",
      "source": [
        "url = \"https://raw.githubusercontent.com/elhamod/BA820/main/Hands-on/04-text-mining/hamspam.csv\"\n",
        "df = pd.read_csv(url, names = ['type', 'text'], index_col='type')\n",
        "\n",
        "X = df['text']\n",
        "y = df.index\n",
        "\n",
        "# df = pd.DataFrame(df.text.str.lower()) # We can try lower-casing.\n",
        "\n",
        "df"
      ],
      "metadata": {
        "colab": {
          "base_uri": "https://localhost:8080/",
          "height": 455
        },
        "id": "GyRLnt9goWpE",
        "outputId": "f355b9df-12bf-4c31-dea5-1578b1d3636d"
      },
      "execution_count": null,
      "outputs": [
        {
          "output_type": "execute_result",
          "data": {
            "text/plain": [
              "                                                   text\n",
              "type                                                   \n",
              "ham   Go until jurong point, crazy.. Available only ...\n",
              "ham                       Ok lar... Joking wif u oni...\n",
              "spam  Free entry in 2 a wkly comp to win FA Cup fina...\n",
              "ham   U dun say so early hor... U c already then say...\n",
              "ham   Nah I don't think he goes to usf, he lives aro...\n",
              "...                                                 ...\n",
              "spam  This is the 2nd time we have tried 2 contact u...\n",
              "ham                Will ü b going to esplanade fr home?\n",
              "ham   Pity, * was in mood for that. So...any other s...\n",
              "ham   The guy did some bitching but I acted like i'd...\n",
              "ham                          Rofl. Its true to its name\n",
              "\n",
              "[5572 rows x 1 columns]"
            ],
            "text/html": [
              "\n",
              "  <div id=\"df-fef03622-09bd-4a6f-a16f-69672c77dbc6\" class=\"colab-df-container\">\n",
              "    <div>\n",
              "<style scoped>\n",
              "    .dataframe tbody tr th:only-of-type {\n",
              "        vertical-align: middle;\n",
              "    }\n",
              "\n",
              "    .dataframe tbody tr th {\n",
              "        vertical-align: top;\n",
              "    }\n",
              "\n",
              "    .dataframe thead th {\n",
              "        text-align: right;\n",
              "    }\n",
              "</style>\n",
              "<table border=\"1\" class=\"dataframe\">\n",
              "  <thead>\n",
              "    <tr style=\"text-align: right;\">\n",
              "      <th></th>\n",
              "      <th>text</th>\n",
              "    </tr>\n",
              "    <tr>\n",
              "      <th>type</th>\n",
              "      <th></th>\n",
              "    </tr>\n",
              "  </thead>\n",
              "  <tbody>\n",
              "    <tr>\n",
              "      <th>ham</th>\n",
              "      <td>Go until jurong point, crazy.. Available only ...</td>\n",
              "    </tr>\n",
              "    <tr>\n",
              "      <th>ham</th>\n",
              "      <td>Ok lar... Joking wif u oni...</td>\n",
              "    </tr>\n",
              "    <tr>\n",
              "      <th>spam</th>\n",
              "      <td>Free entry in 2 a wkly comp to win FA Cup fina...</td>\n",
              "    </tr>\n",
              "    <tr>\n",
              "      <th>ham</th>\n",
              "      <td>U dun say so early hor... U c already then say...</td>\n",
              "    </tr>\n",
              "    <tr>\n",
              "      <th>ham</th>\n",
              "      <td>Nah I don't think he goes to usf, he lives aro...</td>\n",
              "    </tr>\n",
              "    <tr>\n",
              "      <th>...</th>\n",
              "      <td>...</td>\n",
              "    </tr>\n",
              "    <tr>\n",
              "      <th>spam</th>\n",
              "      <td>This is the 2nd time we have tried 2 contact u...</td>\n",
              "    </tr>\n",
              "    <tr>\n",
              "      <th>ham</th>\n",
              "      <td>Will ü b going to esplanade fr home?</td>\n",
              "    </tr>\n",
              "    <tr>\n",
              "      <th>ham</th>\n",
              "      <td>Pity, * was in mood for that. So...any other s...</td>\n",
              "    </tr>\n",
              "    <tr>\n",
              "      <th>ham</th>\n",
              "      <td>The guy did some bitching but I acted like i'd...</td>\n",
              "    </tr>\n",
              "    <tr>\n",
              "      <th>ham</th>\n",
              "      <td>Rofl. Its true to its name</td>\n",
              "    </tr>\n",
              "  </tbody>\n",
              "</table>\n",
              "<p>5572 rows × 1 columns</p>\n",
              "</div>\n",
              "    <div class=\"colab-df-buttons\">\n",
              "\n",
              "  <div class=\"colab-df-container\">\n",
              "    <button class=\"colab-df-convert\" onclick=\"convertToInteractive('df-fef03622-09bd-4a6f-a16f-69672c77dbc6')\"\n",
              "            title=\"Convert this dataframe to an interactive table.\"\n",
              "            style=\"display:none;\">\n",
              "\n",
              "  <svg xmlns=\"http://www.w3.org/2000/svg\" height=\"24px\" viewBox=\"0 -960 960 960\">\n",
              "    <path d=\"M120-120v-720h720v720H120Zm60-500h600v-160H180v160Zm220 220h160v-160H400v160Zm0 220h160v-160H400v160ZM180-400h160v-160H180v160Zm440 0h160v-160H620v160ZM180-180h160v-160H180v160Zm440 0h160v-160H620v160Z\"/>\n",
              "  </svg>\n",
              "    </button>\n",
              "\n",
              "  <style>\n",
              "    .colab-df-container {\n",
              "      display:flex;\n",
              "      gap: 12px;\n",
              "    }\n",
              "\n",
              "    .colab-df-convert {\n",
              "      background-color: #E8F0FE;\n",
              "      border: none;\n",
              "      border-radius: 50%;\n",
              "      cursor: pointer;\n",
              "      display: none;\n",
              "      fill: #1967D2;\n",
              "      height: 32px;\n",
              "      padding: 0 0 0 0;\n",
              "      width: 32px;\n",
              "    }\n",
              "\n",
              "    .colab-df-convert:hover {\n",
              "      background-color: #E2EBFA;\n",
              "      box-shadow: 0px 1px 2px rgba(60, 64, 67, 0.3), 0px 1px 3px 1px rgba(60, 64, 67, 0.15);\n",
              "      fill: #174EA6;\n",
              "    }\n",
              "\n",
              "    .colab-df-buttons div {\n",
              "      margin-bottom: 4px;\n",
              "    }\n",
              "\n",
              "    [theme=dark] .colab-df-convert {\n",
              "      background-color: #3B4455;\n",
              "      fill: #D2E3FC;\n",
              "    }\n",
              "\n",
              "    [theme=dark] .colab-df-convert:hover {\n",
              "      background-color: #434B5C;\n",
              "      box-shadow: 0px 1px 3px 1px rgba(0, 0, 0, 0.15);\n",
              "      filter: drop-shadow(0px 1px 2px rgba(0, 0, 0, 0.3));\n",
              "      fill: #FFFFFF;\n",
              "    }\n",
              "  </style>\n",
              "\n",
              "    <script>\n",
              "      const buttonEl =\n",
              "        document.querySelector('#df-fef03622-09bd-4a6f-a16f-69672c77dbc6 button.colab-df-convert');\n",
              "      buttonEl.style.display =\n",
              "        google.colab.kernel.accessAllowed ? 'block' : 'none';\n",
              "\n",
              "      async function convertToInteractive(key) {\n",
              "        const element = document.querySelector('#df-fef03622-09bd-4a6f-a16f-69672c77dbc6');\n",
              "        const dataTable =\n",
              "          await google.colab.kernel.invokeFunction('convertToInteractive',\n",
              "                                                    [key], {});\n",
              "        if (!dataTable) return;\n",
              "\n",
              "        const docLinkHtml = 'Like what you see? Visit the ' +\n",
              "          '<a target=\"_blank\" href=https://colab.research.google.com/notebooks/data_table.ipynb>data table notebook</a>'\n",
              "          + ' to learn more about interactive tables.';\n",
              "        element.innerHTML = '';\n",
              "        dataTable['output_type'] = 'display_data';\n",
              "        await google.colab.output.renderOutput(dataTable, element);\n",
              "        const docLink = document.createElement('div');\n",
              "        docLink.innerHTML = docLinkHtml;\n",
              "        element.appendChild(docLink);\n",
              "      }\n",
              "    </script>\n",
              "  </div>\n",
              "\n",
              "\n",
              "<div id=\"df-fce4f3ed-a424-4057-a88e-9631466b7eb3\">\n",
              "  <button class=\"colab-df-quickchart\" onclick=\"quickchart('df-fce4f3ed-a424-4057-a88e-9631466b7eb3')\"\n",
              "            title=\"Suggest charts\"\n",
              "            style=\"display:none;\">\n",
              "\n",
              "<svg xmlns=\"http://www.w3.org/2000/svg\" height=\"24px\"viewBox=\"0 0 24 24\"\n",
              "     width=\"24px\">\n",
              "    <g>\n",
              "        <path d=\"M19 3H5c-1.1 0-2 .9-2 2v14c0 1.1.9 2 2 2h14c1.1 0 2-.9 2-2V5c0-1.1-.9-2-2-2zM9 17H7v-7h2v7zm4 0h-2V7h2v10zm4 0h-2v-4h2v4z\"/>\n",
              "    </g>\n",
              "</svg>\n",
              "  </button>\n",
              "\n",
              "<style>\n",
              "  .colab-df-quickchart {\n",
              "      --bg-color: #E8F0FE;\n",
              "      --fill-color: #1967D2;\n",
              "      --hover-bg-color: #E2EBFA;\n",
              "      --hover-fill-color: #174EA6;\n",
              "      --disabled-fill-color: #AAA;\n",
              "      --disabled-bg-color: #DDD;\n",
              "  }\n",
              "\n",
              "  [theme=dark] .colab-df-quickchart {\n",
              "      --bg-color: #3B4455;\n",
              "      --fill-color: #D2E3FC;\n",
              "      --hover-bg-color: #434B5C;\n",
              "      --hover-fill-color: #FFFFFF;\n",
              "      --disabled-bg-color: #3B4455;\n",
              "      --disabled-fill-color: #666;\n",
              "  }\n",
              "\n",
              "  .colab-df-quickchart {\n",
              "    background-color: var(--bg-color);\n",
              "    border: none;\n",
              "    border-radius: 50%;\n",
              "    cursor: pointer;\n",
              "    display: none;\n",
              "    fill: var(--fill-color);\n",
              "    height: 32px;\n",
              "    padding: 0;\n",
              "    width: 32px;\n",
              "  }\n",
              "\n",
              "  .colab-df-quickchart:hover {\n",
              "    background-color: var(--hover-bg-color);\n",
              "    box-shadow: 0 1px 2px rgba(60, 64, 67, 0.3), 0 1px 3px 1px rgba(60, 64, 67, 0.15);\n",
              "    fill: var(--button-hover-fill-color);\n",
              "  }\n",
              "\n",
              "  .colab-df-quickchart-complete:disabled,\n",
              "  .colab-df-quickchart-complete:disabled:hover {\n",
              "    background-color: var(--disabled-bg-color);\n",
              "    fill: var(--disabled-fill-color);\n",
              "    box-shadow: none;\n",
              "  }\n",
              "\n",
              "  .colab-df-spinner {\n",
              "    border: 2px solid var(--fill-color);\n",
              "    border-color: transparent;\n",
              "    border-bottom-color: var(--fill-color);\n",
              "    animation:\n",
              "      spin 1s steps(1) infinite;\n",
              "  }\n",
              "\n",
              "  @keyframes spin {\n",
              "    0% {\n",
              "      border-color: transparent;\n",
              "      border-bottom-color: var(--fill-color);\n",
              "      border-left-color: var(--fill-color);\n",
              "    }\n",
              "    20% {\n",
              "      border-color: transparent;\n",
              "      border-left-color: var(--fill-color);\n",
              "      border-top-color: var(--fill-color);\n",
              "    }\n",
              "    30% {\n",
              "      border-color: transparent;\n",
              "      border-left-color: var(--fill-color);\n",
              "      border-top-color: var(--fill-color);\n",
              "      border-right-color: var(--fill-color);\n",
              "    }\n",
              "    40% {\n",
              "      border-color: transparent;\n",
              "      border-right-color: var(--fill-color);\n",
              "      border-top-color: var(--fill-color);\n",
              "    }\n",
              "    60% {\n",
              "      border-color: transparent;\n",
              "      border-right-color: var(--fill-color);\n",
              "    }\n",
              "    80% {\n",
              "      border-color: transparent;\n",
              "      border-right-color: var(--fill-color);\n",
              "      border-bottom-color: var(--fill-color);\n",
              "    }\n",
              "    90% {\n",
              "      border-color: transparent;\n",
              "      border-bottom-color: var(--fill-color);\n",
              "    }\n",
              "  }\n",
              "</style>\n",
              "\n",
              "  <script>\n",
              "    async function quickchart(key) {\n",
              "      const quickchartButtonEl =\n",
              "        document.querySelector('#' + key + ' button');\n",
              "      quickchartButtonEl.disabled = true;  // To prevent multiple clicks.\n",
              "      quickchartButtonEl.classList.add('colab-df-spinner');\n",
              "      try {\n",
              "        const charts = await google.colab.kernel.invokeFunction(\n",
              "            'suggestCharts', [key], {});\n",
              "      } catch (error) {\n",
              "        console.error('Error during call to suggestCharts:', error);\n",
              "      }\n",
              "      quickchartButtonEl.classList.remove('colab-df-spinner');\n",
              "      quickchartButtonEl.classList.add('colab-df-quickchart-complete');\n",
              "    }\n",
              "    (() => {\n",
              "      let quickchartButtonEl =\n",
              "        document.querySelector('#df-fce4f3ed-a424-4057-a88e-9631466b7eb3 button');\n",
              "      quickchartButtonEl.style.display =\n",
              "        google.colab.kernel.accessAllowed ? 'block' : 'none';\n",
              "    })();\n",
              "  </script>\n",
              "</div>\n",
              "    </div>\n",
              "  </div>\n"
            ]
          },
          "metadata": {},
          "execution_count": 25
        }
      ]
    },
    {
      "cell_type": "markdown",
      "source": [
        "###Unsupervised step: Let's vectorize"
      ],
      "metadata": {
        "id": "QtY2NMe8BwhV"
      }
    },
    {
      "cell_type": "code",
      "source": [
        "from sklearn.model_selection import train_test_split\n",
        "\n"
      ],
      "metadata": {
        "id": "xZYMJeP7DiEc"
      },
      "execution_count": null,
      "outputs": []
    },
    {
      "cell_type": "code",
      "source": [],
      "metadata": {
        "id": "796OX9q5rJRn"
      },
      "execution_count": null,
      "outputs": []
    },
    {
      "cell_type": "code",
      "source": [
        "X_train_counts.toarray().shape"
      ],
      "metadata": {
        "colab": {
          "base_uri": "https://localhost:8080/"
        },
        "id": "OAXfE1v1rKbj",
        "outputId": "5b29ddfd-aa2e-4001-9973-17c83b62cfb6"
      },
      "execution_count": null,
      "outputs": [
        {
          "output_type": "execute_result",
          "data": {
            "text/plain": [
              "(4457, 9609)"
            ]
          },
          "metadata": {},
          "execution_count": 28
        }
      ]
    },
    {
      "cell_type": "markdown",
      "source": [
        "There are almost 9600 different tokens! This is very high dimensional."
      ],
      "metadata": {
        "id": "mNxOvOyMCSbl"
      }
    },
    {
      "cell_type": "markdown",
      "source": [
        "###Supervised learning: Let's train a classifier and look at the results."
      ],
      "metadata": {
        "id": "OQ1tWq-1Cdz1"
      }
    },
    {
      "cell_type": "code",
      "source": [
        "from sklearn.linear_model import LogisticRegression\n",
        "from sklearn.metrics import accuracy_score, classification_report\n",
        "from sklearn.metrics import confusion_matrix\n"
      ],
      "metadata": {
        "id": "7gVd26C8qN4h"
      },
      "execution_count": null,
      "outputs": []
    },
    {
      "cell_type": "markdown",
      "source": [
        "**Question:** Would making tokens lower case help?"
      ],
      "metadata": {
        "id": "o950Gn0rBbrS"
      }
    },
    {
      "cell_type": "markdown",
      "source": [
        "## Let's explore n-grams"
      ],
      "metadata": {
        "id": "-CeLApdvzUbw"
      }
    },
    {
      "cell_type": "markdown",
      "source": [
        "Let's split the data into training and testing"
      ],
      "metadata": {
        "id": "-0UZaoIdz5Yf"
      }
    },
    {
      "cell_type": "code",
      "source": [],
      "metadata": {
        "id": "_B1NkIU5z58b"
      },
      "execution_count": null,
      "outputs": []
    },
    {
      "cell_type": "markdown",
      "source": [
        "Let's vectorize"
      ],
      "metadata": {
        "id": "1VMezwDMz6Gv"
      }
    },
    {
      "cell_type": "code",
      "source": [],
      "metadata": {
        "id": "iBATFdJaz6jP"
      },
      "execution_count": null,
      "outputs": []
    },
    {
      "cell_type": "markdown",
      "source": [
        "Let's look at our data representation"
      ],
      "metadata": {
        "id": "mo5-f_Pu0UkB"
      }
    },
    {
      "cell_type": "code",
      "source": [],
      "metadata": {
        "id": "nbPNAqYa0Uyr"
      },
      "execution_count": null,
      "outputs": []
    },
    {
      "cell_type": "markdown",
      "source": [
        "Let's do some regression with different hyper-parameters."
      ],
      "metadata": {
        "id": "UmU6ITH61cZa"
      }
    },
    {
      "cell_type": "code",
      "source": [],
      "metadata": {
        "id": "tkr0Hgmw1ckk"
      },
      "execution_count": null,
      "outputs": []
    },
    {
      "cell_type": "markdown",
      "source": [
        "**Questions:**\n",
        "\n",
        "- What would happen if I use a large context?\n",
        "- what would happen if I use a large range of ns altogether (i.e., mixed n-gram model)\n",
        "- Would the results change if we do stratified sampling?"
      ],
      "metadata": {
        "id": "uAlc2X-P1pcN"
      }
    },
    {
      "cell_type": "markdown",
      "source": [
        "**Questions:**\n",
        "\n",
        "- Would dimensionality reduction help?\n",
        "- Would clustering work?\n",
        "- Plot the tSNE plot of this dataset."
      ],
      "metadata": {
        "id": "vuhqikhwDUr5"
      }
    }
  ]
}